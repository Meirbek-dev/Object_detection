{
 "cells": [
  {
   "cell_type": "markdown",
   "id": "b2aacd20-b08f-4e25-b187-2f2ce24b1a9e",
   "metadata": {},
   "source": [
    "# 1. Установка и импорт зависимостей (PyTorch & YOLO V5)"
   ]
  },
  {
   "cell_type": "code",
   "execution_count": null,
   "id": "22d8fb03-0e8a-4d59-915c-34657ff5e30f",
   "metadata": {},
   "outputs": [],
   "source": [
    "!pip install torch==1.8.1+cu111 torchvision==0.9.1+cu111 torchaudio===0.8.1 -f https://download.pytorch.org/whl/lts/1.8/torch_lts.html"
   ]
  },
  {
   "cell_type": "code",
   "execution_count": null,
   "id": "27839058-7390-425b-8afb-cdc320fa0162",
   "metadata": {},
   "outputs": [],
   "source": [
    "!git clone https://github.com/ultralytics/yolov5"
   ]
  },
  {
   "cell_type": "code",
   "execution_count": null,
   "id": "b7277032-df68-4f95-a325-523ffa3765e3",
   "metadata": {},
   "outputs": [],
   "source": [
    "!cd yolov5 & pip install -r requirements.txt --upgrade"
   ]
  },
  {
   "cell_type": "code",
   "execution_count": null,
   "id": "3f2b8120-ff48-438b-9591-46745333b8b7",
   "metadata": {},
   "outputs": [],
   "source": [
    "pip install ipywidgets"
   ]
  },
  {
   "cell_type": "code",
   "execution_count": null,
   "id": "883b5e09-a8fb-4b78-8b67-970741a7c6db",
   "metadata": {},
   "outputs": [],
   "source": [
    "import torch\n",
    "from matplotlib import pyplot as plt\n",
    "import numpy as np\n",
    "import cv2"
   ]
  },
  {
   "cell_type": "code",
   "execution_count": null,
   "id": "953e9dc9-5e2c-4e8a-822f-d02562a21203",
   "metadata": {},
   "outputs": [],
   "source": [
    "!pip install pyautogui"
   ]
  },
  {
   "cell_type": "code",
   "execution_count": null,
   "id": "0a921807-1db6-40b6-a99d-ecc1aef09e1c",
   "metadata": {},
   "outputs": [],
   "source": [
    "import pyautogui\n",
    "import cv2\n",
    "import numpy as np"
   ]
  },
  {
   "cell_type": "markdown",
   "id": "0c20479c-ca4c-4433-ad85-4475d11909b0",
   "metadata": {},
   "source": [
    "Проверка доступности видеокарты для CUDA"
   ]
  },
  {
   "cell_type": "code",
   "execution_count": null,
   "id": "03160898-fddd-44b5-8d88-6cfbf0f84b82",
   "metadata": {},
   "outputs": [],
   "source": [
    "torch.cuda.is_available()"
   ]
  },
  {
   "cell_type": "markdown",
   "id": "ae6bb535-d4a8-4f21-a531-2a272ee9738c",
   "metadata": {},
   "source": [
    "# 2. Аннотация данных\n"
   ]
  },
  {
   "cell_type": "code",
   "execution_count": null,
   "id": "e51489a7-82dd-465f-ab9d-aea483f919ae",
   "metadata": {},
   "outputs": [],
   "source": [
    "# !git clone https://github.com/tzutalin/labelImg\n",
    "# !conda install pyqt=5\n",
    "# !conda install -c anaconda lxml\n",
    "# !cd labelImg & pyrcc5 -o libs/resources.py resources.qrc\n",
    "!python labelImg/labelImg.py"
   ]
  },
  {
   "cell_type": "markdown",
   "id": "a26afe0b-735c-4a7e-857b-bf61d41f0927",
   "metadata": {},
   "source": [
    "# 3. Обучение"
   ]
  },
  {
   "cell_type": "code",
   "execution_count": null,
   "id": "a75afac9-af1c-4021-8894-7a76f2754710",
   "metadata": {},
   "outputs": [],
   "source": [
    "!cd yolov5 && python train.py --img 320 --batch 16 --epochs 2000 --data dataset.yml --hyp hyp.scratch.yaml --weights yolov5s.pt --workers 2"
   ]
  },
  {
   "cell_type": "markdown",
   "id": "ac167ac8-75b7-458d-8374-6457e7599558",
   "metadata": {},
   "source": [
    "# 4. Загрузка модели"
   ]
  },
  {
   "cell_type": "code",
   "execution_count": null,
   "id": "c9b7b415-d8ba-4fbd-8843-5c24fe57568d",
   "metadata": {},
   "outputs": [],
   "source": [
    "model = torch.hub.load('yolov5', 'custom', source='local', path='yolov5/runs/train/exp2/weights/best.pt')"
   ]
  },
  {
   "cell_type": "markdown",
   "id": "89061919-7470-4481-9fd9-44cb49114785",
   "metadata": {},
   "source": [
    "# 5. Обнаружение объектов на экране в реальном времени"
   ]
  },
  {
   "cell_type": "code",
   "execution_count": null,
   "id": "3b56c108-eeb4-483b-a87e-4d0cb90820b2",
   "metadata": {},
   "outputs": [],
   "source": [
    "while True:\n",
    "    # Захват экрана\n",
    "    screen = pyautogui.screenshot()\n",
    "    # Перевод скриншотов в массив\n",
    "    screen_array = np.array(screen)\n",
    "    # Выбор необходимого региона\n",
    "    cropped_region = screen_array[99:976, 0:940]\n",
    "    corrected_colors = cv2.cvtColor(cropped_region, cv2.COLOR_RGB2BGR)\n",
    "    \n",
    "    # Наложение обнаружений\n",
    "    results = model(corrected_colors)\n",
    "    \n",
    "    cv2.imshow('Проверка нормоконтроля', np.squeeze(results.render()))\n",
    "\n",
    "    if cv2.waitKey(1) & 0xFF==ord('q'):\n",
    "        break\n",
    "        \n",
    "# Закрытие окон OpenCV\n",
    "cv2.destroyAllWindows()"
   ]
  },
  {
   "cell_type": "code",
   "execution_count": null,
   "id": "df07f849-08eb-4e80-82ac-c65769b1ab64",
   "metadata": {},
   "outputs": [],
   "source": []
  }
 ],
 "metadata": {
  "kernelspec": {
   "display_name": "Python 3 (ipykernel)",
   "language": "python",
   "name": "python3"
  },
  "language_info": {
   "codemirror_mode": {
    "name": "ipython",
    "version": 3
   },
   "file_extension": ".py",
   "mimetype": "text/x-python",
   "name": "python",
   "nbconvert_exporter": "python",
   "pygments_lexer": "ipython3",
   "version": "3.9.12"
  }
 },
 "nbformat": 4,
 "nbformat_minor": 5
}
